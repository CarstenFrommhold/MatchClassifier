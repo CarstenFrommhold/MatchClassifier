{
 "cells": [
  {
   "cell_type": "markdown",
   "metadata": {},
   "source": [
    "## EDA"
   ]
  },
  {
   "cell_type": "code",
   "execution_count": null,
   "metadata": {},
   "outputs": [],
   "source": [
    "import pandas as pd\n",
    "import seaborn as sns\n",
    "import matplotlib.pyplot as plt"
   ]
  },
  {
   "cell_type": "code",
   "execution_count": null,
   "metadata": {},
   "outputs": [],
   "source": [
    "def value_counts_group_by(df: pd.DataFrame, by: str, var: str) -> pd.DataFrame:\n",
    "\n",
    "      return pd.DataFrame(\n",
    "          df.groupby(by=by)[var].value_counts(normalize=True)\n",
    "      ).rename({var: \"share\"}, axis=1).reset_index()"
   ]
  },
  {
   "cell_type": "code",
   "execution_count": null,
   "metadata": {
    "pycharm": {
     "name": "#%%\n"
    }
   },
   "outputs": [],
   "source": [
    "df = pd.read_csv(\"prepared_matches/10y.csv\")"
   ]
  },
  {
   "cell_type": "code",
   "execution_count": null,
   "metadata": {},
   "outputs": [],
   "source": [
    "target_variable_by_season = pd.DataFrame(\n",
    "    df.groupby(by=\"Season\")[\"result\"].value_counts(normalize=True)\n",
    ").rename({\"result\": \"share\"}, axis=1).reset_index()"
   ]
  },
  {
   "cell_type": "code",
   "execution_count": null,
   "metadata": {},
   "outputs": [],
   "source": [
    "plt.title(\"Is the home field advantage waning?\")\n",
    "sns.lineplot(\n",
    "    data=target_variable_by_season, x=\"Season\", y=\"share\", \n",
    "    hue=\"result\", palette=\"crest\")\n",
    "plt.show()"
   ]
  },
  {
   "cell_type": "code",
   "execution_count": null,
   "metadata": {},
   "outputs": [],
   "source": [
    "df[\"Goal_difference_abs\"] = df[\"Goal_difference\"].apply(abs)\n",
    "df[\"clear_match\"] = df[\"Goal_difference_abs\"].apply(lambda x: \"no\" if x in [1, 0] else \"yes\")\n",
    "clear_matches = value_counts_group_by(df, \"Season\", \"clear_match\")\n",
    "clear_matches = clear_matches[clear_matches.clear_match == \"yes\"]"
   ]
  },
  {
   "cell_type": "code",
   "execution_count": null,
   "metadata": {},
   "outputs": [],
   "source": [
    "plt.title(\"Are clear results on the arise?\")\n",
    "sns.lineplot(\n",
    "    data=clear_matches, x=\"Season\", y=\"share\", palette=\"crest\")\n",
    "plt.show()"
   ]
  },
  {
   "cell_type": "code",
   "execution_count": null,
   "metadata": {},
   "outputs": [],
   "source": []
  }
 ],
 "metadata": {
  "kernelspec": {
   "display_name": "matchclassifier",
   "language": "python",
   "name": "matchclassifier"
  },
  "language_info": {
   "codemirror_mode": {
    "name": "ipython",
    "version": 3
   },
   "file_extension": ".py",
   "mimetype": "text/x-python",
   "name": "python",
   "nbconvert_exporter": "python",
   "pygments_lexer": "ipython3",
   "version": "3.8.10"
  },
  "toc": {
   "base_numbering": 1,
   "nav_menu": {},
   "number_sections": true,
   "sideBar": true,
   "skip_h1_title": false,
   "title_cell": "Table of Contents",
   "title_sidebar": "Contents",
   "toc_cell": false,
   "toc_position": {},
   "toc_section_display": true,
   "toc_window_display": false
  }
 },
 "nbformat": 4,
 "nbformat_minor": 1
}
