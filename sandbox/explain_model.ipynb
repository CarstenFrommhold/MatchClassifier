{
 "cells": [
  {
   "cell_type": "code",
   "execution_count": null,
   "id": "9cb2423e",
   "metadata": {},
   "outputs": [],
   "source": [
    "import sklearn\n",
    "from sklearn import tree\n",
    "import joblib\n",
    "from match_classifier.config import FEATURES\n",
    "import matplotlib.pyplot as plt\n",
    "from dtreeviz.trees import *"
   ]
  },
  {
   "cell_type": "code",
   "execution_count": null,
   "id": "62cb73c0",
   "metadata": {},
   "outputs": [],
   "source": [
    "model = joblib.load(\"model.p\")"
   ]
  },
  {
   "cell_type": "code",
   "execution_count": null,
   "id": "c970de4f",
   "metadata": {},
   "outputs": [],
   "source": [
    "model"
   ]
  },
  {
   "cell_type": "code",
   "execution_count": null,
   "id": "32531c8e",
   "metadata": {},
   "outputs": [],
   "source": [
    "model.classes_"
   ]
  },
  {
   "cell_type": "code",
   "execution_count": null,
   "id": "7b9f0c86",
   "metadata": {},
   "outputs": [],
   "source": [
    "model"
   ]
  },
  {
   "cell_type": "code",
   "execution_count": null,
   "id": "dbc39238",
   "metadata": {},
   "outputs": [],
   "source": [
    "model\n",
    "features = ['HomeAvgPoints', 'AwayAvgPoints', 'AvgPointDelta',\n",
    "        'HomePoints_last3', 'HomeGoals_last3', 'AwayPoints_last3',\n",
    "        'AwayGoals_last3', 'HomePoints_last5', 'HomeGoals_last5',\n",
    "        'AwayPoints_last5', 'AwayGoals_last5', 'HomeSkills', 'AwaySkills',\n",
    "        'SkillDelta']"
   ]
  },
  {
   "cell_type": "code",
   "execution_count": null,
   "id": "cc197785",
   "metadata": {},
   "outputs": [],
   "source": [
    "fig = plt.figure(figsize=(20,12))\n",
    "tree_ = tree.plot_tree(\n",
    "    model,\n",
    "    filled=True, \n",
    "    proportion=True,\n",
    "    feature_names=features)"
   ]
  },
  {
   "cell_type": "code",
   "execution_count": null,
   "id": "783ccbdc",
   "metadata": {},
   "outputs": [],
   "source": []
  }
 ],
 "metadata": {
  "kernelspec": {
   "display_name": "matchclassifier",
   "language": "python",
   "name": "matchclassifier"
  },
  "language_info": {
   "codemirror_mode": {
    "name": "ipython",
    "version": 3
   },
   "file_extension": ".py",
   "mimetype": "text/x-python",
   "name": "python",
   "nbconvert_exporter": "python",
   "pygments_lexer": "ipython3",
   "version": "3.8.10"
  },
  "toc": {
   "base_numbering": 1,
   "nav_menu": {},
   "number_sections": true,
   "sideBar": true,
   "skip_h1_title": false,
   "title_cell": "Table of Contents",
   "title_sidebar": "Contents",
   "toc_cell": false,
   "toc_position": {},
   "toc_section_display": true,
   "toc_window_display": false
  }
 },
 "nbformat": 4,
 "nbformat_minor": 5
}
