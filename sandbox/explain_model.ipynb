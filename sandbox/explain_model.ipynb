{
 "cells": [
  {
   "cell_type": "code",
   "execution_count": null,
   "id": "9cb2423e",
   "metadata": {},
   "outputs": [],
   "source": [
    "import sklearn\n",
    "from sklearn import tree\n",
    "import joblib\n",
    "from match_classifier.config import FEATURES\n",
    "import matplotlib.pyplot as plt\n",
    "from dtreeviz.trees import *"
   ]
  },
  {
   "cell_type": "code",
   "execution_count": null,
   "id": "62cb73c0",
   "metadata": {},
   "outputs": [],
   "source": [
    "model = joblib.load(\"model/model.p\")"
   ]
  },
  {
   "cell_type": "code",
   "execution_count": null,
   "id": "32531c8e",
   "metadata": {},
   "outputs": [],
   "source": [
    "model.classes_"
   ]
  },
  {
   "cell_type": "code",
   "execution_count": null,
   "id": "7b9f0c86",
   "metadata": {},
   "outputs": [],
   "source": [
    "model"
   ]
  },
  {
   "cell_type": "code",
   "execution_count": null,
   "id": "cc197785",
   "metadata": {},
   "outputs": [],
   "source": [
    "fig = plt.figure(figsize=(20,12))\n",
    "tree_ = tree.plot_tree(\n",
    "    model,\n",
    "    filled=True, \n",
    "    proportion=True,\n",
    "    feature_names=FEATURES)"
   ]
  },
  {
   "cell_type": "code",
   "execution_count": null,
   "id": "religious-factory",
   "metadata": {},
   "outputs": [],
   "source": [
    "\"\"\"\n",
    "Note: Debugged \n",
    "\n",
    "X_hist = [X_node_feature[y_train == cl] for cl in class_values]\n",
    "\n",
    "to \n",
    "\n",
    "X_hist = [X_node_feature[np.equal(y_train, np.array([cl] * len(y_train)))] for cl in class_names.keys()] \n",
    "\n",
    "in dtreeviz/tree.py -> otherwise failed due to pairwise comparison issue. \n",
    "\n",
    "Todo: Issue @github / Pull for solution.\n",
    "\n",
    "\"\"\""
   ]
  },
  {
   "cell_type": "code",
   "execution_count": null,
   "id": "correct-vaccine",
   "metadata": {},
   "outputs": [],
   "source": [
    "# TODO: Debugged \n",
    "# X_hist = [X_node_feature[np.equal(y_train, np.array([cl] * len(y_train)))] for cl in class_names.keys()]\n",
    "# "
   ]
  },
  {
   "cell_type": "code",
   "execution_count": null,
   "id": "783ccbdc",
   "metadata": {},
   "outputs": [],
   "source": [
    "data = pd.read_csv(\"../data/prepared_matches/training_data_14_to_21.csv\")\n",
    "data = data.loc[data.Matchday >= 6]\n",
    "target = \"result\"\n",
    "\n",
    "fig = plt.figure(figsize=(20,15))\n",
    "viz = dtreeviz(model,\n",
    "               data[FEATURES],#.to_numpy(),\n",
    "               data[target].replace({\"1\": 0, \"2\": 1, \"X\": 2}),#.to_numpy(),\n",
    "               target_name=target,\n",
    "               feature_names=FEATURES,\n",
    "               title=\"Match result propabilities\",\n",
    "               class_names=model.classes_.tolist(),\n",
    "               #histtype='barstacked', #default\n",
    "               #scale=1.2)\n",
    "              )"
   ]
  },
  {
   "cell_type": "code",
   "execution_count": null,
   "id": "static-madagascar",
   "metadata": {},
   "outputs": [],
   "source": [
    "viz.save(\"20211103_decision_tree.svg\")"
   ]
  },
  {
   "cell_type": "code",
   "execution_count": null,
   "id": "unavailable-wireless",
   "metadata": {},
   "outputs": [],
   "source": []
  }
 ],
 "metadata": {
  "kernelspec": {
   "display_name": "matchclassifier",
   "language": "python",
   "name": "matchclassifier"
  },
  "language_info": {
   "codemirror_mode": {
    "name": "ipython",
    "version": 3
   },
   "file_extension": ".py",
   "mimetype": "text/x-python",
   "name": "python",
   "nbconvert_exporter": "python",
   "pygments_lexer": "ipython3",
   "version": "3.8.10"
  },
  "toc": {
   "base_numbering": 1,
   "nav_menu": {},
   "number_sections": true,
   "sideBar": true,
   "skip_h1_title": false,
   "title_cell": "Table of Contents",
   "title_sidebar": "Contents",
   "toc_cell": false,
   "toc_position": {},
   "toc_section_display": true,
   "toc_window_display": false
  }
 },
 "nbformat": 4,
 "nbformat_minor": 5
}
